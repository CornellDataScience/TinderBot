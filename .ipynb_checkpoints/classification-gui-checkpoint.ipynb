{
 "cells": [
  {
   "cell_type": "code",
   "execution_count": 1,
   "metadata": {},
   "outputs": [
    {
     "name": "stdout",
     "output_type": "stream",
     "text": [
      "download.jpg\n"
     ]
    }
   ],
   "source": [
    "from os import listdir, rename\n",
    "from os.path import isfile, join\n",
    "import tkinter as tk\n",
    "from PIL import ImageTk, Image\n",
    "\n",
    "IMAGE_FOLDER = \"./images/unclassified\"\n",
    "\n",
    "images = [f for f in listdir(IMAGE_FOLDER) if isfile(join(IMAGE_FOLDER, f))]\n",
    "unclassified_images = filter(lambda image: not (image.startswith(\"0_\") or image.startswith(\"1_\")), images)\n",
    "current = None\n",
    "\n",
    "def next_img():\n",
    "    global current, unclassified_images\n",
    "    try:\n",
    "        current = next(unclassified_images)\n",
    "    except StopIteration:\n",
    "        root.quit()\n",
    "    print(current)\n",
    "    pil_img = Image.open(IMAGE_FOLDER+\"/\"+current)\n",
    "    width, height = pil_img.size\n",
    "    max_height = 1000\n",
    "    if height > max_height:\n",
    "        resize_factor = max_height / height\n",
    "        pil_img = pil_img.resize((int(width*resize_factor), int(height*resize_factor)), resample=Image.LANCZOS)\n",
    "    img_tk = ImageTk.PhotoImage(pil_img)\n",
    "    img_label.img = img_tk\n",
    "    img_label.config(image=img_label.img)\n",
    "\n",
    "def positive(arg):\n",
    "    global current\n",
    "    print(\"Positive\")\n",
    "    rename(IMAGE_FOLDER+\"/\"+current, IMAGE_FOLDER+\"/1_\"+current)\n",
    "    next_img()\n",
    "\n",
    "def negative(arg):\n",
    "    global current\n",
    "    print(\"Negative\")\n",
    "    rename(IMAGE_FOLDER + \"/\" + current, IMAGE_FOLDER + \"/0_\" + current)\n",
    "    next_img()\n",
    "\n",
    "\n",
    "if __name__ == \"__main__\":\n",
    "\n",
    "    root = tk.Toplevel()\n",
    "\n",
    "    img_label = tk.Label(root)\n",
    "    img_label.pack()\n",
    "    img_label.bind(\"<Button-1>\", positive)\n",
    "    img_label.bind(\"<Button-3>\", negative)\n",
    "\n",
    "    btn = tk.Button(root, text='Next image', command=next_img)\n",
    "\n",
    "    next_img() # load first image\n",
    "\n",
    "    root.mainloop()"
   ]
  },
  {
   "cell_type": "code",
   "execution_count": null,
   "metadata": {},
   "outputs": [],
   "source": []
  }
 ],
 "metadata": {
  "kernelspec": {
   "display_name": "Python 3 (ipykernel)",
   "language": "python",
   "name": "python3"
  },
  "language_info": {
   "codemirror_mode": {
    "name": "ipython",
    "version": 3
   },
   "file_extension": ".py",
   "mimetype": "text/x-python",
   "name": "python",
   "nbconvert_exporter": "python",
   "pygments_lexer": "ipython3",
   "version": "3.10.3"
  }
 },
 "nbformat": 4,
 "nbformat_minor": 2
}
